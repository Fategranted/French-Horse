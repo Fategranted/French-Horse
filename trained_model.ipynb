{
  "nbformat": 4,
  "nbformat_minor": 0,
  "metadata": {
    "colab": {
      "provenance": []
    },
    "kernelspec": {
      "name": "python3",
      "display_name": "Python 3"
    },
    "language_info": {
      "name": "python"
    }
  },
  "cells": [
    {
      "cell_type": "markdown",
      "metadata": {
        "id": "rLId6fgPeMqC"
      },
      "source": [
        "# Import Packages needed for model development\n",
        "\n",
        "The main packages that will be used is pandas, tensorflow and torch."
      ]
    },
    {
      "cell_type": "code",
      "execution_count": null,
      "metadata": {
        "id": "GBn_yCHBrL0v"
      },
      "outputs": [],
      "source": [
        "import pandas as pd\n",
        "from datetime import datetime\n",
        "import tensorflow as tf\n",
        "from tensorflow import keras\n",
        "from tensorflow.keras import layers\n",
        "import numpy as np\n",
        "from sklearn.model_selection import train_test_split\n",
        "import torch\n",
        "import torch.nn as nn\n",
        "import torch.optim as optim\n",
        "from sklearn.metrics import accuracy_score\n",
        "import random\n",
        "from torch.utils.data import DataLoader, TensorDataset"
      ]
    },
    {
      "cell_type": "markdown",
      "metadata": {
        "id": "Hn0I2dp6hmAT"
      },
      "source": [
        "## Neural Network Model Setup\n",
        "We have chosen to use neuro networks to develop a model that can be used to predict the finish position. We have used multiple laywers of linear regression to do this."
      ]
    },
    {
      "cell_type": "code",
      "execution_count": null,
      "metadata": {
        "id": "BSAhWV25pegj"
      },
      "outputs": [],
      "source": [
        "class HorsePredictor(nn.Module):\n",
        "    def __init__(self):\n",
        "        super(HorsePredictor, self).__init__()\n",
        "        self.fc1 = nn.Linear(27, 64)\n",
        "        self.relu = nn.ReLU()\n",
        "        self.fc2 = nn.Linear(64, 128)\n",
        "        self.sigmoid = nn.Sigmoid()\n",
        "        self.fc3 = nn.Linear(128, 64)\n",
        "        self.fc4 = nn.Linear(64, 32)\n",
        "        self.fc5 = nn.Linear(32, 16)\n",
        "        self.fc6 = nn.Linear(16, 8)\n",
        "        self.fc7 = nn.Linear(8, 32)\n",
        "        self.fc8 = nn.Linear(32, 20)\n",
        "\n",
        "\n",
        "    def forward(self, x):\n",
        "        x = self.fc1(x)\n",
        "        # x = self.relu(x)\n",
        "        x = self.fc2(x)\n",
        "        # x = self.sigmoid(x)\n",
        "        x = self.fc3(x)\n",
        "        # x = self.relu(x)\n",
        "        x = self.fc4(x)\n",
        "        x = self.fc5(x)\n",
        "        x = self.fc6(x)\n",
        "        x = self.fc7(x)\n",
        "        x = self.fc8(x)\n",
        "        return x\n"
      ]
    },
    {
      "cell_type": "markdown",
      "metadata": {
        "id": "jH1MccqTw63f"
      },
      "source": [
        "# Prediction on the custom data\n",
        "For this section, asides from the requirement of spliting training and testing data accordingly. We have decided to arbitrary split the data such that we can see if the dataset becomes different, how will our model preform. For any user that may be interested in improving our model, they are welcome to upload their own data and validate the results."
      ]
    },
    {
      "cell_type": "code",
      "execution_count": null,
      "metadata": {
        "id": "6j3a6Jcsw6AI"
      },
      "outputs": [],
      "source": [
        "custom_df = pd.read_csv('custom_data.csv', engine='pyarrow')"
      ]
    },
    {
      "cell_type": "markdown",
      "source": [
        "We first will load the data, and then we decide to drop any columns that we believe will not be helpful for our prediction."
      ],
      "metadata": {
        "id": "rHAoa5U2yb_T"
      }
    },
    {
      "cell_type": "code",
      "execution_count": null,
      "metadata": {
        "id": "XpTTNoRtyOr8"
      },
      "outputs": [],
      "source": [
        "custom_df = custom_df.drop(\"AgeRestriction\", axis=1)\n",
        "custom_df = custom_df.drop(\"ClassRestriction\", axis=1)\n",
        "custom_df = custom_df.drop(\"Disqualified\", axis=1)\n",
        "custom_df = custom_df.drop(\"FoalingCountry\", axis=1)\n",
        "custom_df = custom_df.drop(\"FoalingDate\", axis=1)\n",
        "custom_df = custom_df.drop(\"Gender\", axis=1)\n",
        "custom_df = custom_df.drop(\"GoingAbbrev\", axis=1)\n",
        "custom_df = custom_df.drop(\"RaceStartTime\", axis=1)\n",
        "custom_df = custom_df.drop(\"RacingSubType\", axis=1)\n",
        "custom_df = custom_df.drop(\"StartType\", axis=1)\n",
        "custom_df = custom_df.drop(\"CourseIndicator\", axis=1)\n",
        "custom_df = custom_df.drop(\"Surface\", axis=1)\n",
        "custom_df = custom_df.drop(\"HandicapType\", axis=1)\n",
        "custom_df = custom_df.drop(\"RaceGroup\", axis=1)\n",
        "custom_df = custom_df.drop(\"SexRestriction\", axis=1)\n",
        "custom_df = custom_df.drop(\"\", axis=1)"
      ]
    },
    {
      "cell_type": "code",
      "execution_count": null,
      "metadata": {
        "id": "yuA3mYnFyrTL"
      },
      "outputs": [],
      "source": [
        "custom_df = custom_df.apply(pd.to_numeric, errors='coerce')\n",
        "custom_df = custom_df.dropna()\n",
        "custom_df = custom_df.astype(float)"
      ]
    },
    {
      "cell_type": "markdown",
      "source": [
        "Now we will develop a dictionary to sore unique RaceID's so that we can use it to determine the batchs. We chose to do this because we think that it is best to predict base on information provided for each race. One could choose to use batchs directly for simplicity purposes."
      ],
      "metadata": {
        "id": "WRhWA4zByom8"
      }
    },
    {
      "cell_type": "code",
      "execution_count": null,
      "metadata": {
        "id": "taoFFMJ_yw_D"
      },
      "outputs": [],
      "source": [
        "# Create a dictionary to store separate DataFrames\n",
        "custom_dfss = []\n",
        "\n",
        "# Iterate through unique values in the 'Category' column\n",
        "for race_id in custom_df['RaceID'].unique():\n",
        "    # Create a new DataFrame for each unique value\n",
        "    sub_df = custom_df[custom_df['RaceID'] == race_id]\n",
        "    custom_dfss.append(sub_df)"
      ]
    },
    {
      "cell_type": "code",
      "execution_count": null,
      "metadata": {
        "id": "IS_PAjdUzKm8"
      },
      "outputs": [],
      "source": [
        "custom_df_features = []\n",
        "custom_df_labels = []\n",
        "for i in range(len(custom_dfss)):\n",
        "  feature, label = custom_dfss[i].drop('FinishPosition', axis=1), custom_dfss[i]['FinishPosition']\n",
        "  custom_df_features.append(feature)\n",
        "  custom_df_labels.append(label)"
      ]
    },
    {
      "cell_type": "code",
      "execution_count": null,
      "metadata": {
        "id": "z28VMBNuzmob"
      },
      "outputs": [],
      "source": [
        "custom_feature_tensors = [torch.tensor(df1.values, dtype=torch.float32) for df1 in custom_df_features]\n",
        "custom_label_tensors = [torch.tensor(df1.values, dtype=torch.long) for df1 in custom_df_labels]"
      ]
    },
    {
      "cell_type": "markdown",
      "source": [
        "We have developed the features and labels, next we created the tensors needed within the model. We will then run the model to see our results."
      ],
      "metadata": {
        "id": "7NamvsgVzEhn"
      }
    },
    {
      "cell_type": "code",
      "source": [
        "model = HorsePredictor()\n",
        "model.load_state_dict(torch.load('trot_model_state_dict.pth'))"
      ],
      "metadata": {
        "colab": {
          "base_uri": "https://localhost:8080/"
        },
        "id": "RlRT5wJ3qLvB",
        "outputId": "25d09e4c-32a3-444f-d2c2-ce87e0bfbfb6"
      },
      "execution_count": null,
      "outputs": [
        {
          "output_type": "execute_result",
          "data": {
            "text/plain": [
              "<All keys matched successfully>"
            ]
          },
          "metadata": {},
          "execution_count": 9
        }
      ]
    },
    {
      "cell_type": "markdown",
      "source": [
        "Now it is time to evaluate the model. We will run it on the trot horse data, just with different split."
      ],
      "metadata": {
        "id": "Mc3FoABTzRCR"
      }
    },
    {
      "cell_type": "code",
      "execution_count": null,
      "metadata": {
        "id": "92VXQ3gMzcEK"
      },
      "outputs": [],
      "source": [
        "model.eval()  # Set the model to evaluation mode\n",
        "\n",
        "\n",
        "custom_lst = []\n",
        "\n",
        "with torch.no_grad():  # Disable gradient computation during validation\n",
        "    for inputs, labels in zip(custom_feature_tensors, custom_label_tensors):\n",
        "        outputs = model(inputs)\n",
        "        predicted = torch.argmax(outputs, 1)\n",
        "        # predicted = outputs  # Get the predicted class indices\n",
        "        predicted = predicted.numpy()\n",
        "        custom_lst.append(predicted)\n"
      ]
    },
    {
      "cell_type": "code",
      "execution_count": null,
      "metadata": {
        "id": "fOGChEJozcEK"
      },
      "outputs": [],
      "source": [
        "custom_lsst = []\n",
        "for pre in custom_lst:\n",
        "    pr = (1 / pre) / np.sum(1 / pre)\n",
        "    custom_lsst.append(pr.reshape(-1, 1))"
      ]
    },
    {
      "cell_type": "code",
      "execution_count": null,
      "metadata": {
        "id": "9fW2nQxGzcEL"
      },
      "outputs": [],
      "source": [
        "custom_features_numpy = torch.cat(custom_feature_tensors, dim=0).numpy()\n",
        "predicted_custom_labels = np.vstack(custom_lsst)"
      ]
    },
    {
      "cell_type": "code",
      "execution_count": null,
      "metadata": {
        "id": "PjGyoCqzzcEL"
      },
      "outputs": [],
      "source": [
        "predicted_custom_with_labels = np.concatenate((custom_features_numpy, predicted_custom_labels), axis=1)"
      ]
    },
    {
      "cell_type": "code",
      "execution_count": null,
      "metadata": {
        "id": "Bya49y8tzcEL"
      },
      "outputs": [],
      "source": [
        "predicted_custom_df = pd.DataFrame(predicted_custom_with_labels)"
      ]
    },
    {
      "cell_type": "code",
      "execution_count": null,
      "metadata": {
        "id": "MFBWliuXzcEL"
      },
      "outputs": [],
      "source": [
        "predicted_custom_df.columns = ['Barrier', 'BeatenMargin', 'DamID', 'Distance',\n",
        "       'FrontShoes', 'GoingID', 'HandicapDistance', 'HindShoes', 'HorseAge',\n",
        "       'HorseID', 'JockeyID', 'PIRPosition', 'PriceSP', 'Prizemoney', 'RaceID',\n",
        "       'RaceOverallTime', 'RacePrizemoney', 'Saddlecloth', 'SireID',\n",
        "       'StartingLine', 'TrackID', 'TrainerID', 'NoFrontCover',\n",
        "       'PositionInRunning', 'WideOffRail', 'WeightCarried', 'WetnessScale', 'win_probability']"
      ]
    },
    {
      "cell_type": "code",
      "execution_count": null,
      "metadata": {
        "id": "h2FOl2jvzcEL"
      },
      "outputs": [],
      "source": [
        "predicted_result = predicted_custom_df[['HorseID', 'RaceID', 'win_probability']]"
      ]
    },
    {
      "cell_type": "code",
      "execution_count": null,
      "metadata": {
        "id": "go3-oLD3zcEL",
        "colab": {
          "base_uri": "https://localhost:8080/",
          "height": 423
        },
        "outputId": "22ae4978-c3ba-4d51-e629-22743b6a2f1b"
      },
      "outputs": [
        {
          "output_type": "execute_result",
          "data": {
            "text/plain": [
              "         HorseID     RaceID  win_probability\n",
              "0      1545779.0  1662903.0         0.278330\n",
              "1      1545897.0  1662903.0         0.139165\n",
              "2      1547175.0  1662903.0         0.092777\n",
              "3      1549945.0  1662903.0         0.069583\n",
              "4      1548420.0  1662903.0         0.055666\n",
              "...          ...        ...              ...\n",
              "88184  1563119.0  1666241.0         0.096419\n",
              "88185  1563782.0  1666241.0         0.385675\n",
              "88186  1563560.0  1666241.0         0.077135\n",
              "88187  1564835.0  1666241.0         0.064279\n",
              "88188  1564922.0  1666241.0         0.192837\n",
              "\n",
              "[88189 rows x 3 columns]"
            ],
            "text/html": [
              "\n",
              "  <div id=\"df-fe5d42e3-7149-4ada-aff8-3b9ead6467d9\" class=\"colab-df-container\">\n",
              "    <div>\n",
              "<style scoped>\n",
              "    .dataframe tbody tr th:only-of-type {\n",
              "        vertical-align: middle;\n",
              "    }\n",
              "\n",
              "    .dataframe tbody tr th {\n",
              "        vertical-align: top;\n",
              "    }\n",
              "\n",
              "    .dataframe thead th {\n",
              "        text-align: right;\n",
              "    }\n",
              "</style>\n",
              "<table border=\"1\" class=\"dataframe\">\n",
              "  <thead>\n",
              "    <tr style=\"text-align: right;\">\n",
              "      <th></th>\n",
              "      <th>HorseID</th>\n",
              "      <th>RaceID</th>\n",
              "      <th>win_probability</th>\n",
              "    </tr>\n",
              "  </thead>\n",
              "  <tbody>\n",
              "    <tr>\n",
              "      <th>0</th>\n",
              "      <td>1545779.0</td>\n",
              "      <td>1662903.0</td>\n",
              "      <td>0.278330</td>\n",
              "    </tr>\n",
              "    <tr>\n",
              "      <th>1</th>\n",
              "      <td>1545897.0</td>\n",
              "      <td>1662903.0</td>\n",
              "      <td>0.139165</td>\n",
              "    </tr>\n",
              "    <tr>\n",
              "      <th>2</th>\n",
              "      <td>1547175.0</td>\n",
              "      <td>1662903.0</td>\n",
              "      <td>0.092777</td>\n",
              "    </tr>\n",
              "    <tr>\n",
              "      <th>3</th>\n",
              "      <td>1549945.0</td>\n",
              "      <td>1662903.0</td>\n",
              "      <td>0.069583</td>\n",
              "    </tr>\n",
              "    <tr>\n",
              "      <th>4</th>\n",
              "      <td>1548420.0</td>\n",
              "      <td>1662903.0</td>\n",
              "      <td>0.055666</td>\n",
              "    </tr>\n",
              "    <tr>\n",
              "      <th>...</th>\n",
              "      <td>...</td>\n",
              "      <td>...</td>\n",
              "      <td>...</td>\n",
              "    </tr>\n",
              "    <tr>\n",
              "      <th>88184</th>\n",
              "      <td>1563119.0</td>\n",
              "      <td>1666241.0</td>\n",
              "      <td>0.096419</td>\n",
              "    </tr>\n",
              "    <tr>\n",
              "      <th>88185</th>\n",
              "      <td>1563782.0</td>\n",
              "      <td>1666241.0</td>\n",
              "      <td>0.385675</td>\n",
              "    </tr>\n",
              "    <tr>\n",
              "      <th>88186</th>\n",
              "      <td>1563560.0</td>\n",
              "      <td>1666241.0</td>\n",
              "      <td>0.077135</td>\n",
              "    </tr>\n",
              "    <tr>\n",
              "      <th>88187</th>\n",
              "      <td>1564835.0</td>\n",
              "      <td>1666241.0</td>\n",
              "      <td>0.064279</td>\n",
              "    </tr>\n",
              "    <tr>\n",
              "      <th>88188</th>\n",
              "      <td>1564922.0</td>\n",
              "      <td>1666241.0</td>\n",
              "      <td>0.192837</td>\n",
              "    </tr>\n",
              "  </tbody>\n",
              "</table>\n",
              "<p>88189 rows × 3 columns</p>\n",
              "</div>\n",
              "    <div class=\"colab-df-buttons\">\n",
              "\n",
              "  <div class=\"colab-df-container\">\n",
              "    <button class=\"colab-df-convert\" onclick=\"convertToInteractive('df-fe5d42e3-7149-4ada-aff8-3b9ead6467d9')\"\n",
              "            title=\"Convert this dataframe to an interactive table.\"\n",
              "            style=\"display:none;\">\n",
              "\n",
              "  <svg xmlns=\"http://www.w3.org/2000/svg\" height=\"24px\" viewBox=\"0 -960 960 960\">\n",
              "    <path d=\"M120-120v-720h720v720H120Zm60-500h600v-160H180v160Zm220 220h160v-160H400v160Zm0 220h160v-160H400v160ZM180-400h160v-160H180v160Zm440 0h160v-160H620v160ZM180-180h160v-160H180v160Zm440 0h160v-160H620v160Z\"/>\n",
              "  </svg>\n",
              "    </button>\n",
              "\n",
              "  <style>\n",
              "    .colab-df-container {\n",
              "      display:flex;\n",
              "      gap: 12px;\n",
              "    }\n",
              "\n",
              "    .colab-df-convert {\n",
              "      background-color: #E8F0FE;\n",
              "      border: none;\n",
              "      border-radius: 50%;\n",
              "      cursor: pointer;\n",
              "      display: none;\n",
              "      fill: #1967D2;\n",
              "      height: 32px;\n",
              "      padding: 0 0 0 0;\n",
              "      width: 32px;\n",
              "    }\n",
              "\n",
              "    .colab-df-convert:hover {\n",
              "      background-color: #E2EBFA;\n",
              "      box-shadow: 0px 1px 2px rgba(60, 64, 67, 0.3), 0px 1px 3px 1px rgba(60, 64, 67, 0.15);\n",
              "      fill: #174EA6;\n",
              "    }\n",
              "\n",
              "    .colab-df-buttons div {\n",
              "      margin-bottom: 4px;\n",
              "    }\n",
              "\n",
              "    [theme=dark] .colab-df-convert {\n",
              "      background-color: #3B4455;\n",
              "      fill: #D2E3FC;\n",
              "    }\n",
              "\n",
              "    [theme=dark] .colab-df-convert:hover {\n",
              "      background-color: #434B5C;\n",
              "      box-shadow: 0px 1px 3px 1px rgba(0, 0, 0, 0.15);\n",
              "      filter: drop-shadow(0px 1px 2px rgba(0, 0, 0, 0.3));\n",
              "      fill: #FFFFFF;\n",
              "    }\n",
              "  </style>\n",
              "\n",
              "    <script>\n",
              "      const buttonEl =\n",
              "        document.querySelector('#df-fe5d42e3-7149-4ada-aff8-3b9ead6467d9 button.colab-df-convert');\n",
              "      buttonEl.style.display =\n",
              "        google.colab.kernel.accessAllowed ? 'block' : 'none';\n",
              "\n",
              "      async function convertToInteractive(key) {\n",
              "        const element = document.querySelector('#df-fe5d42e3-7149-4ada-aff8-3b9ead6467d9');\n",
              "        const dataTable =\n",
              "          await google.colab.kernel.invokeFunction('convertToInteractive',\n",
              "                                                    [key], {});\n",
              "        if (!dataTable) return;\n",
              "\n",
              "        const docLinkHtml = 'Like what you see? Visit the ' +\n",
              "          '<a target=\"_blank\" href=https://colab.research.google.com/notebooks/data_table.ipynb>data table notebook</a>'\n",
              "          + ' to learn more about interactive tables.';\n",
              "        element.innerHTML = '';\n",
              "        dataTable['output_type'] = 'display_data';\n",
              "        await google.colab.output.renderOutput(dataTable, element);\n",
              "        const docLink = document.createElement('div');\n",
              "        docLink.innerHTML = docLinkHtml;\n",
              "        element.appendChild(docLink);\n",
              "      }\n",
              "    </script>\n",
              "  </div>\n",
              "\n",
              "\n",
              "<div id=\"df-c79b4327-db40-4307-9492-037faef8e7dd\">\n",
              "  <button class=\"colab-df-quickchart\" onclick=\"quickchart('df-c79b4327-db40-4307-9492-037faef8e7dd')\"\n",
              "            title=\"Suggest charts\"\n",
              "            style=\"display:none;\">\n",
              "\n",
              "<svg xmlns=\"http://www.w3.org/2000/svg\" height=\"24px\"viewBox=\"0 0 24 24\"\n",
              "     width=\"24px\">\n",
              "    <g>\n",
              "        <path d=\"M19 3H5c-1.1 0-2 .9-2 2v14c0 1.1.9 2 2 2h14c1.1 0 2-.9 2-2V5c0-1.1-.9-2-2-2zM9 17H7v-7h2v7zm4 0h-2V7h2v10zm4 0h-2v-4h2v4z\"/>\n",
              "    </g>\n",
              "</svg>\n",
              "  </button>\n",
              "\n",
              "<style>\n",
              "  .colab-df-quickchart {\n",
              "      --bg-color: #E8F0FE;\n",
              "      --fill-color: #1967D2;\n",
              "      --hover-bg-color: #E2EBFA;\n",
              "      --hover-fill-color: #174EA6;\n",
              "      --disabled-fill-color: #AAA;\n",
              "      --disabled-bg-color: #DDD;\n",
              "  }\n",
              "\n",
              "  [theme=dark] .colab-df-quickchart {\n",
              "      --bg-color: #3B4455;\n",
              "      --fill-color: #D2E3FC;\n",
              "      --hover-bg-color: #434B5C;\n",
              "      --hover-fill-color: #FFFFFF;\n",
              "      --disabled-bg-color: #3B4455;\n",
              "      --disabled-fill-color: #666;\n",
              "  }\n",
              "\n",
              "  .colab-df-quickchart {\n",
              "    background-color: var(--bg-color);\n",
              "    border: none;\n",
              "    border-radius: 50%;\n",
              "    cursor: pointer;\n",
              "    display: none;\n",
              "    fill: var(--fill-color);\n",
              "    height: 32px;\n",
              "    padding: 0;\n",
              "    width: 32px;\n",
              "  }\n",
              "\n",
              "  .colab-df-quickchart:hover {\n",
              "    background-color: var(--hover-bg-color);\n",
              "    box-shadow: 0 1px 2px rgba(60, 64, 67, 0.3), 0 1px 3px 1px rgba(60, 64, 67, 0.15);\n",
              "    fill: var(--button-hover-fill-color);\n",
              "  }\n",
              "\n",
              "  .colab-df-quickchart-complete:disabled,\n",
              "  .colab-df-quickchart-complete:disabled:hover {\n",
              "    background-color: var(--disabled-bg-color);\n",
              "    fill: var(--disabled-fill-color);\n",
              "    box-shadow: none;\n",
              "  }\n",
              "\n",
              "  .colab-df-spinner {\n",
              "    border: 2px solid var(--fill-color);\n",
              "    border-color: transparent;\n",
              "    border-bottom-color: var(--fill-color);\n",
              "    animation:\n",
              "      spin 1s steps(1) infinite;\n",
              "  }\n",
              "\n",
              "  @keyframes spin {\n",
              "    0% {\n",
              "      border-color: transparent;\n",
              "      border-bottom-color: var(--fill-color);\n",
              "      border-left-color: var(--fill-color);\n",
              "    }\n",
              "    20% {\n",
              "      border-color: transparent;\n",
              "      border-left-color: var(--fill-color);\n",
              "      border-top-color: var(--fill-color);\n",
              "    }\n",
              "    30% {\n",
              "      border-color: transparent;\n",
              "      border-left-color: var(--fill-color);\n",
              "      border-top-color: var(--fill-color);\n",
              "      border-right-color: var(--fill-color);\n",
              "    }\n",
              "    40% {\n",
              "      border-color: transparent;\n",
              "      border-right-color: var(--fill-color);\n",
              "      border-top-color: var(--fill-color);\n",
              "    }\n",
              "    60% {\n",
              "      border-color: transparent;\n",
              "      border-right-color: var(--fill-color);\n",
              "    }\n",
              "    80% {\n",
              "      border-color: transparent;\n",
              "      border-right-color: var(--fill-color);\n",
              "      border-bottom-color: var(--fill-color);\n",
              "    }\n",
              "    90% {\n",
              "      border-color: transparent;\n",
              "      border-bottom-color: var(--fill-color);\n",
              "    }\n",
              "  }\n",
              "</style>\n",
              "\n",
              "  <script>\n",
              "    async function quickchart(key) {\n",
              "      const quickchartButtonEl =\n",
              "        document.querySelector('#' + key + ' button');\n",
              "      quickchartButtonEl.disabled = true;  // To prevent multiple clicks.\n",
              "      quickchartButtonEl.classList.add('colab-df-spinner');\n",
              "      try {\n",
              "        const charts = await google.colab.kernel.invokeFunction(\n",
              "            'suggestCharts', [key], {});\n",
              "      } catch (error) {\n",
              "        console.error('Error during call to suggestCharts:', error);\n",
              "      }\n",
              "      quickchartButtonEl.classList.remove('colab-df-spinner');\n",
              "      quickchartButtonEl.classList.add('colab-df-quickchart-complete');\n",
              "    }\n",
              "    (() => {\n",
              "      let quickchartButtonEl =\n",
              "        document.querySelector('#df-c79b4327-db40-4307-9492-037faef8e7dd button');\n",
              "      quickchartButtonEl.style.display =\n",
              "        google.colab.kernel.accessAllowed ? 'block' : 'none';\n",
              "    })();\n",
              "  </script>\n",
              "</div>\n",
              "    </div>\n",
              "  </div>\n"
            ]
          },
          "metadata": {},
          "execution_count": 17
        }
      ],
      "source": [
        "predicted_result"
      ]
    },
    {
      "cell_type": "code",
      "source": [
        "predicted_result.to_csv(\"predicted_result.csv\", index=False)"
      ],
      "metadata": {
        "id": "Ul6brbJe7Z6V"
      },
      "execution_count": null,
      "outputs": []
    }
  ]
}